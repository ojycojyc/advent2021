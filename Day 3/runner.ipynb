{
 "cells": [
  {
   "cell_type": "code",
   "execution_count": 19,
   "metadata": {},
   "outputs": [
    {
     "ename": "ModuleNotFoundError",
     "evalue": "No module named 'numpy'",
     "output_type": "error",
     "traceback": [
      "\u001b[1;31m---------------------------------------------------------------------------\u001b[0m",
      "\u001b[1;31mModuleNotFoundError\u001b[0m                       Traceback (most recent call last)",
      "\u001b[1;32m~\\AppData\\Local\\Temp/ipykernel_15664/3847249908.py\u001b[0m in \u001b[0;36m<module>\u001b[1;34m\u001b[0m\n\u001b[1;32m----> 1\u001b[1;33m \u001b[1;32mimport\u001b[0m \u001b[0mnumpy\u001b[0m \u001b[1;32mas\u001b[0m \u001b[0mnp\u001b[0m\u001b[1;33m\u001b[0m\u001b[1;33m\u001b[0m\u001b[0m\n\u001b[0m\u001b[0;32m      2\u001b[0m \u001b[1;33m\u001b[0m\u001b[0m\n\u001b[0;32m      3\u001b[0m \u001b[1;31m# Read each line of input.txt file\u001b[0m\u001b[1;33m\u001b[0m\u001b[1;33m\u001b[0m\u001b[1;33m\u001b[0m\u001b[0m\n\u001b[0;32m      4\u001b[0m \u001b[1;32mdef\u001b[0m \u001b[0mprocess_file\u001b[0m\u001b[1;33m(\u001b[0m\u001b[0mfilename\u001b[0m\u001b[1;33m)\u001b[0m\u001b[1;33m:\u001b[0m\u001b[1;33m\u001b[0m\u001b[1;33m\u001b[0m\u001b[0m\n\u001b[0;32m      5\u001b[0m     \u001b[0mdata\u001b[0m \u001b[1;33m=\u001b[0m \u001b[1;33m[\u001b[0m\u001b[1;33m]\u001b[0m\u001b[1;33m\u001b[0m\u001b[1;33m\u001b[0m\u001b[0m\n",
      "\u001b[1;31mModuleNotFoundError\u001b[0m: No module named 'numpy'"
     ]
    }
   ],
   "source": [
    "import numpy as np\n",
    "\n",
    "key = 110110111100 #1\n",
    "antikey = 001001000011 #0\n",
    "\n",
    "# Read each line of input.txt file \n",
    "def process_file(filename):\n",
    "    data = []\n",
    "\n",
    "    with open(filename) as f:\n",
    "        for line in f: \n",
    "            data.append(line)\n",
    "    return data\n",
    "\n",
    "# Calculate bit criteria\n",
    "def bit_criteria(key, data):\n",
    "    newData = []\n",
    "    newKey = ''\n",
    "    for position in range(0, 12):\n",
    "        if most_common_bit(position, data):\n",
    "            newData.append([entry for entry in data if entry[position] == '1'])\n",
    "            newKey += '1'\n",
    "        else:\n",
    "            newData.append([entry for entry in data if entry[position] == '0'])\n",
    "            newKey += '0'\n",
    "\n",
    "\n",
    "# Calculate most common bit\n",
    "def most_common_bit(position, data):\n",
    "    set_count = 0\n",
    "    unset_count = 0\n",
    "    for line in data:\n",
    "        if line[position] == '1':\n",
    "            set_count += 1\n",
    "        else:\n",
    "            unset_count += 1\n",
    "    #return set_count > unset_count\n",
    "    return set_count > unset_count\n",
    "\n"
   ]
  },
  {
   "cell_type": "code",
   "execution_count": null,
   "metadata": {},
   "outputs": [],
   "source": []
  }
 ],
 "metadata": {
  "interpreter": {
   "hash": "8fa288b22653c53f913924f028977ebff9216aad22ad28949492c854a832ec5c"
  },
  "kernelspec": {
   "display_name": "Python 3.8.0 64-bit",
   "language": "python",
   "name": "python3"
  },
  "language_info": {
   "codemirror_mode": {
    "name": "ipython",
    "version": 3
   },
   "file_extension": ".py",
   "mimetype": "text/x-python",
   "name": "python",
   "nbconvert_exporter": "python",
   "pygments_lexer": "ipython3",
   "version": "3.8.0"
  },
  "orig_nbformat": 4
 },
 "nbformat": 4,
 "nbformat_minor": 2
}

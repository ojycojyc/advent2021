{
 "cells": [
  {
   "cell_type": "code",
   "execution_count": 10,
   "metadata": {},
   "outputs": [
    {
     "name": "stdout",
     "output_type": "stream",
     "text": [
      "1991\n",
      "984716\n",
      "911\n",
      "1960569556\n"
     ]
    }
   ],
   "source": [
    "import re\n",
    "# read input.txt file\n",
    "# split the input into a list of strings\n",
    "# for each string in the list\n",
    "# extract the first character and find the integer in the string\n",
    "# if the first character is 'f, increment X by the integer\n",
    "# if the first character is 'u, decrement Y by the integer\n",
    "# if the first character is 'd, increment Y by the integer\n",
    "# print the multiplication of X and Y\n",
    "def main():\n",
    "    with open('input.txt') as f:\n",
    "        input_list = f.read().splitlines()\n",
    "    x = 0\n",
    "    y = 0\n",
    "    z = 0\n",
    "    for i in input_list:\n",
    "        value = int(re.search(r'\\d+', i).group())\n",
    "        if i[0] == 'f':\n",
    "            x += value\n",
    "            y += value * z\n",
    "        elif i[0] == 'u':\n",
    "            z -= value\n",
    "        elif i[0] == 'd':\n",
    "            z += value\n",
    "    print(x)\n",
    "    print(y)\n",
    "    print(z)\n",
    "    print(x*y)\n",
    "\n",
    "main()"
   ]
  },
  {
   "cell_type": "code",
   "execution_count": null,
   "metadata": {},
   "outputs": [],
   "source": []
  }
 ],
 "metadata": {
  "interpreter": {
   "hash": "8fa288b22653c53f913924f028977ebff9216aad22ad28949492c854a832ec5c"
  },
  "kernelspec": {
   "display_name": "Python 3.8.0 64-bit",
   "language": "python",
   "name": "python3"
  },
  "language_info": {
   "codemirror_mode": {
    "name": "ipython",
    "version": 3
   },
   "file_extension": ".py",
   "mimetype": "text/x-python",
   "name": "python",
   "nbconvert_exporter": "python",
   "pygments_lexer": "ipython3",
   "version": "3.8.0"
  },
  "orig_nbformat": 4
 },
 "nbformat": 4,
 "nbformat_minor": 2
}

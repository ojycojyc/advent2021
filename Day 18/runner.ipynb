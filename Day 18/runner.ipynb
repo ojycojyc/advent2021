{
 "cells": [
  {
   "cell_type": "code",
   "execution_count": 28,
   "metadata": {},
   "outputs": [
    {
     "name": "stdout",
     "output_type": "stream",
     "text": [
      "-1,-2,1,2,-3,6,[3,4]]\n"
     ]
    }
   ],
   "source": [
    "import numpy as np\n",
    "import json\n",
    "\n",
    "# The actions on the snailfish are as follows:\n",
    "# Addition\n",
    "# Reduction\n",
    "# Reduction is performed with explode or split\n",
    "\n",
    "## Method for Addition\n",
    "# Add left pair to right pair\n",
    "# Such that [1,2] +[[3,4],5] = [[1,2],[[3,4],5]]\n",
    "def add(left, right):\n",
    "    if isinstance(left, list) and isinstance(right, list):\n",
    "        return [left, right]\n",
    "    else:\n",
    "        return \"[{left},{right}]\".format(left=left, right=right)\n",
    "\n",
    "def split(number):\n",
    "    return [np.ceil(number/2), np.floor(number/2)]\n",
    "\n",
    "def explode(left, center, right):\n",
    "    if isinstance(center, list) and len(center) == 2:\n",
    "        centerLeft = 0 if left is None else center[0] + left\n",
    "        centerRight = 0 if right is None else center[1] + right\n",
    "        \n",
    "        if centerLeft > 10:\n",
    "            centerLeft = split(centerLeft)\n",
    "        if centerRight > 10:\n",
    "            centerRight = split(centerRight)\n",
    "        \n",
    "        return [centerLeft, centerRight]\n",
    "    else:    \n",
    "        print(\"Invalid explode entries: {left}, {center}, {right}\")\n",
    "        raise Exception(\"Invalid explode entries: {left}, {center}, {right}\")\n",
    "\n",
    "def explore(input, depth):\n",
    "    return input\n",
    "\n",
    "\n",
    "def replaceBrackets(input):\n",
    "    depth=-1\n",
    "    for i=0, i< len(input), i++:\n",
    "        if(input[i] ==\"[\"):\n",
    "            input = input[:i] + str(depth) + \",\" + input[i+ 1:]\n",
    "            depth = depth -1\n",
    "        if(input[i] ==\"]\"):\n",
    "            input = input[:i] +  \",\" + str(depth) + input[i+ 1:]\n",
    "            depth = depth +1\n",
    "    return input\n",
    "\n",
    "## Parse json file input\n",
    "def parseInput():\n",
    "    inputs = []\n",
    "    with open(\"input.txt\", 'r') as file:\n",
    "        lines = file.read().splitlines()\n",
    "        for line in lines:\n",
    "            jsonLine = json.loads(line)\n",
    "            if isinstance(jsonLine, list):\n",
    "                inputs.append(line)    \n",
    "    return inputs\n",
    "\n",
    "input = \"[[1,2],6,[3,4]]\"\n",
    "print(replaceBrackets(input))"
   ]
  }
 ],
 "metadata": {
  "language_info": {
   "name": "python"
  },
  "orig_nbformat": 4
 },
 "nbformat": 4,
 "nbformat_minor": 2
}
